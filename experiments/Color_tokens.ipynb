{
 "cells": [
  {
   "cell_type": "code",
   "execution_count": 20,
   "metadata": {},
   "outputs": [],
   "source": [
    "from IPython.display import display, HTML\n",
    "\n",
    "def get_color(attr):\n",
    "    if attr > 0:\n",
    "      r = int(128*attr) + 127\n",
    "      g = 128 - int(64*attr)\n",
    "      b = 128 - int(64*attr) \n",
    "    else:\n",
    "      r = 128 + int(64*attr)\n",
    "      g = 128 + int(64*attr) \n",
    "      b = int(-128*attr) + 127\n",
    "    return r,g,b  # normalize attributions for visualization.\n",
    "\n",
    "def visualize_token_attrs(tokens, attrs):\n",
    "    \"\"\"\n",
    "    Visualize attributions for given set of tokens.\n",
    "    Args:\n",
    "    - tokens: An array of tokens\n",
    "    - attrs: An array of attributions, of same size as 'tokens',\n",
    "    with attrs[i] being the attribution to tokens[i]  Returns:\n",
    "    - visualization: An IPython.core.display.HTML object showing\n",
    "    tokens color-coded based on strength of their attribution.\n",
    "    \"\"\"\n",
    "\n",
    "    bound = max(abs(attrs.max()), abs(attrs.min()))\n",
    "    attrs = attrs/bound\n",
    "    html_text = \"\"\n",
    "    for i, tok in enumerate(tokens):\n",
    "        r,g,b = get_color(attrs[i])\n",
    "        html_text += \" <span style='color:rgb(%d,%d,%d)'>%s</span>\" % (r, g, b, tok)\n",
    "    return HTML(html_text)"
   ]
  },
  {
   "cell_type": "code",
   "execution_count": 67,
   "metadata": {},
   "outputs": [],
   "source": [
    "import numpy as np\n",
    "attrs = np.load(\"sear_IGs.npy\")\n",
    "src_tokens = []\n",
    "with open('sear.txt') as file:\n",
    "    for line in file:\n",
    "       for ch in line.split():\n",
    "          src_tokens.append(ch)"
   ]
  },
  {
   "cell_type": "code",
   "execution_count": 68,
   "metadata": {},
   "outputs": [
    {
     "data": {
      "text/html": [
       " <span style='color:rgb(94,94,196)'>Br</span> <span style='color:rgb(114,114,155)'>Br</span> <span style='color:rgb(120,120,143)'>.</span> <span style='color:rgb(104,104,175)'>Br</span> <span style='color:rgb(127,128,128)'>[Fe]</span> <span style='color:rgb(102,102,180)'>(</span> <span style='color:rgb(116,116,151)'>Br</span> <span style='color:rgb(111,111,161)'>)</span> <span style='color:rgb(115,115,154)'>Br</span> <span style='color:rgb(103,103,177)'>.</span> <span style='color:rgb(105,105,174)'>C</span> <span style='color:rgb(97,97,189)'>C</span> <span style='color:rgb(85,85,214)'>(</span> <span style='color:rgb(100,100,183)'>C</span> <span style='color:rgb(93,93,197)'>)</span> <span style='color:rgb(107,107,169)'>c</span> <span style='color:rgb(112,112,160)'>1</span> <span style='color:rgb(136,124,124)'>c</span> <span style='color:rgb(128,128,127)'>c</span> <span style='color:rgb(134,125,125)'>c</span> <span style='color:rgb(180,102,102)'>c</span> <span style='color:rgb(181,101,101)'>c</span> <span style='color:rgb(255,64,64)'>1</span>"
      ],
      "text/plain": [
       "<IPython.core.display.HTML object>"
      ]
     },
     "execution_count": 68,
     "metadata": {},
     "output_type": "execute_result"
    }
   ],
   "source": [
    "# baseline . meta / para\n",
    "visualize_token_attrs(src_tokens, attrs)"
   ]
  },
  {
   "cell_type": "code",
   "execution_count": 60,
   "metadata": {},
   "outputs": [
    {
     "data": {
      "text/html": [
       " <span style='color:rgb(111,111,161)'>Br</span> <span style='color:rgb(103,103,177)'>Br</span> <span style='color:rgb(128,128,127)'>.</span> <span style='color:rgb(100,100,183)'>Br</span> <span style='color:rgb(170,107,107)'>[Fe]</span> <span style='color:rgb(115,115,153)'>(</span> <span style='color:rgb(99,99,185)'>Br</span> <span style='color:rgb(126,126,131)'>)</span> <span style='color:rgb(119,119,146)'>Br</span> <span style='color:rgb(128,128,127)'>.</span> <span style='color:rgb(135,124,124)'>C</span> <span style='color:rgb(144,120,120)'>C</span> <span style='color:rgb(127,127,130)'>(</span> <span style='color:rgb(131,126,126)'>C</span> <span style='color:rgb(168,108,108)'>)</span> <span style='color:rgb(142,121,121)'>c</span> <span style='color:rgb(204,90,90)'>1</span> <span style='color:rgb(195,94,94)'>c</span> <span style='color:rgb(234,75,75)'>c</span> <span style='color:rgb(255,64,64)'>c</span> <span style='color:rgb(202,91,91)'>c</span> <span style='color:rgb(164,110,110)'>c</span> <span style='color:rgb(134,125,125)'>1</span>"
      ],
      "text/plain": [
       "<IPython.core.display.HTML object>"
      ]
     },
     "execution_count": 60,
     "metadata": {},
     "output_type": "execute_result"
    }
   ],
   "source": [
    "# baseline 23 . meta / para\n",
    "visualize_token_attrs(src_tokens, attrs)"
   ]
  },
  {
   "cell_type": "code",
   "execution_count": 62,
   "metadata": {},
   "outputs": [
    {
     "data": {
      "text/html": [
       " <span style='color:rgb(212,86,86)'>Br</span> <span style='color:rgb(218,83,83)'>Br</span> <span style='color:rgb(128,128,127)'>.</span> <span style='color:rgb(255,64,64)'>Br</span> <span style='color:rgb(243,70,70)'>[Fe]</span> <span style='color:rgb(139,122,122)'>(</span> <span style='color:rgb(232,76,76)'>Br</span> <span style='color:rgb(139,122,122)'>)</span> <span style='color:rgb(211,86,86)'>Br</span> <span style='color:rgb(128,128,127)'>.</span> <span style='color:rgb(178,103,103)'>C</span> <span style='color:rgb(183,100,100)'>C</span> <span style='color:rgb(128,128,127)'>(</span> <span style='color:rgb(175,104,104)'>C</span> <span style='color:rgb(166,109,109)'>)</span> <span style='color:rgb(136,124,124)'>c</span> <span style='color:rgb(184,100,100)'>1</span> <span style='color:rgb(171,106,106)'>c</span> <span style='color:rgb(142,121,121)'>c</span> <span style='color:rgb(122,122,139)'>c</span> <span style='color:rgb(128,128,128)'>c</span> <span style='color:rgb(127,127,130)'>c</span> <span style='color:rgb(138,123,123)'>1</span>"
      ],
      "text/plain": [
       "<IPython.core.display.HTML object>"
      ]
     },
     "execution_count": 62,
     "metadata": {},
     "output_type": "execute_result"
    }
   ],
   "source": [
    "# baseline 23 . on Cl Br\n",
    "visualize_token_attrs(src_tokens, attrs)"
   ]
  },
  {
   "cell_type": "code",
   "execution_count": null,
   "metadata": {},
   "outputs": [],
   "source": []
  },
  {
   "cell_type": "code",
   "execution_count": 53,
   "metadata": {},
   "outputs": [
    {
     "name": "stdout",
     "output_type": "stream",
     "text": [
      "-1.3269251e-05\n",
      "8.392334e-05\n"
     ]
    }
   ],
   "source": [
    "gradients = np.load(\"gradients.npy\")\n",
    "print(np.sum(gradients))\n",
    "gradients = np.transpose(gradients,axes=(3, 2, 1, 0))\n",
    "gradients = np.sum(gradients, axis=(3, 2, 1))\n",
    "#print(gradients)\n",
    "print(np.sum(gradients))"
   ]
  },
  {
   "cell_type": "code",
   "execution_count": 54,
   "metadata": {},
   "outputs": [
    {
     "name": "stdout",
     "output_type": "stream",
     "text": [
      "20\n",
      "20\n"
     ]
    }
   ],
   "source": [
    "ll = np.array([[1,2,3,4],[1,2,3,4]])\n",
    "print(np.sum(ll))\n",
    "ll = np.transpose(ll, axes=(1,0))\n",
    "ll = np.sum(ll, axis=1)\n",
    "print(np.sum(ll))"
   ]
  },
  {
   "cell_type": "code",
   "execution_count": 64,
   "metadata": {},
   "outputs": [
    {
     "ename": "ModuleNotFoundError",
     "evalue": "No module named 'rdkit'",
     "output_type": "error",
     "traceback": [
      "\u001b[0;31m---------------------------------------------------------------------------\u001b[0m",
      "\u001b[0;31mModuleNotFoundError\u001b[0m                       Traceback (most recent call last)",
      "\u001b[0;32m<ipython-input-64-48448a66c15d>\u001b[0m in \u001b[0;36m<module>\u001b[0;34m\u001b[0m\n\u001b[0;32m----> 1\u001b[0;31m \u001b[0;32mfrom\u001b[0m \u001b[0mrdkit\u001b[0m \u001b[0;32mimport\u001b[0m \u001b[0mChem\u001b[0m\u001b[0;34m\u001b[0m\u001b[0;34m\u001b[0m\u001b[0m\n\u001b[0m\u001b[1;32m      2\u001b[0m \u001b[0mChem\u001b[0m\u001b[0;34m.\u001b[0m\u001b[0mMolToSmiles\u001b[0m\u001b[0;34m(\u001b[0m\u001b[0mChem\u001b[0m\u001b[0;34m.\u001b[0m\u001b[0mMolFromSmiles\u001b[0m\u001b[0;34m(\u001b[0m\u001b[0;34m'BrBr.Br[Fe](Br)(Br).CC(C)c1ccccc1'\u001b[0m\u001b[0;34m)\u001b[0m\u001b[0;34m)\u001b[0m\u001b[0;34m\u001b[0m\u001b[0;34m\u001b[0m\u001b[0m\n",
      "\u001b[0;31mModuleNotFoundError\u001b[0m: No module named 'rdkit'"
     ]
    }
   ],
   "source": [
    "from rdkit import Chem\n",
    "Chem.MolToSmiles(Chem.MolFromSmiles('BrBr.Br[Fe](Br)(Br).CC(C)c1ccccc1'))"
   ]
  },
  {
   "cell_type": "code",
   "execution_count": null,
   "metadata": {},
   "outputs": [],
   "source": []
  }
 ],
 "metadata": {
  "kernelspec": {
   "display_name": "Python 3",
   "language": "python",
   "name": "python3"
  },
  "language_info": {
   "codemirror_mode": {
    "name": "ipython",
    "version": 3
   },
   "file_extension": ".py",
   "mimetype": "text/x-python",
   "name": "python",
   "nbconvert_exporter": "python",
   "pygments_lexer": "ipython3",
   "version": "3.7.4"
  }
 },
 "nbformat": 4,
 "nbformat_minor": 2
}
