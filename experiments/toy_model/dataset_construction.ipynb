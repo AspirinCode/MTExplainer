{
 "cells": [
  {
   "cell_type": "code",
   "execution_count": null,
   "metadata": {},
   "outputs": [],
   "source": [
    "from rdkit.Chem import AllChem, MolFromSmiles, MolToSmiles, Draw\n",
    "from rdkit.Chem.rdmolops import FastFindRings\n",
    "\n",
    "from rdkit import Chem\n",
    "from tqdm import tqdm\n",
    "import pandas as pd\n",
    "import numpy as np"
   ]
  },
  {
   "cell_type": "markdown",
   "metadata": {},
   "source": [
    "# Example Molecule"
   ]
  },
  {
   "cell_type": "code",
   "execution_count": null,
   "metadata": {},
   "outputs": [],
   "source": [
    "from rdkit.Chem.Draw import IPythonConsole\n",
    "\n",
    "df = pd.read_csv('test.smiles')\n",
    "mols = [MolFromSmiles(smi) for smi in df['SMILES'].values]\n",
    "for m in mols: tmp=AllChem.Compute2DCoords(m)\n",
    "mols[0]"
   ]
  },
  {
   "cell_type": "code",
   "execution_count": null,
   "metadata": {},
   "outputs": [],
   "source": [
    "aldehyde_to_alcohol = AllChem.ReactionFromSmarts('[CX3H1:1](=[O:2]) >> [CX3H1:1][OX2H1:2]')\n",
    "ester_to_aldehyde = AllChem.ReactionFromSmarts('[CX3:1](=[O:2])[OX2H0][CX4] >> [CX3H1:1](=[O:2])')\n",
    "ester_to_alcohol = AllChem.ReactionFromSmarts('[CX3:1](=[O:2])[OX2H0][CX4] >> [CX3H2:1][OX2H1:2]')\n",
    "\n",
    "alcohol1 = aldehyde_to_alcohol.RunReactants((mols[0],))[0][0]\n",
    "alcohol2 = ester_to_alcohol.RunReactants((mols[0],))[0][0]\n",
    "aldehydes = ester_to_aldehyde.RunReactants((mols[0],))[0][0]\n",
    "\n",
    "products = [alcohol1,alcohol2,aldehydes]\n",
    "for m in products: \n",
    "    tmp=AllChem.Compute2DCoords(m)\n",
    "    m.UpdatePropertyCache()\n",
    "    FastFindRings(m) #sanitation\n",
    "img = Draw.MolsToGridImage(products, molsPerRow=3)\n",
    "img"
   ]
  },
  {
   "cell_type": "markdown",
   "metadata": {},
   "source": [
    "# Some useful functions for enumerating reactions"
   ]
  },
  {
   "cell_type": "code",
   "execution_count": null,
   "metadata": {},
   "outputs": [],
   "source": [
    "def sanitize(mol):\n",
    "    tmp=AllChem.Compute2DCoords(mol)\n",
    "    mol.UpdatePropertyCache()\n",
    "    FastFindRings(mol) #sanitation\n",
    "\n",
    "def simple_rxn(mol_list, rxn, debug=False):\n",
    "    prod_list = []\n",
    "    for mol in mol_list:\n",
    "        if debug:\n",
    "            print('Input: '+ MolToSmiles(mol))\n",
    "        products = rxn.RunReactants((Chem.AddHs(mol),))\n",
    "        if debug:\n",
    "            print('Products: {}'.format(products))\n",
    "        if products != ():\n",
    "            for prod in products:\n",
    "                if debug:\n",
    "                    logging.info(prod)\n",
    "                    logging.info(MolToSmiles(Chem.RemoveHs(prod[0]))\n",
    "                # prod_list.append(MolToSmiles(prod[0]))\n",
    "                output = prod[0]\n",
    "                sanitize(output)\n",
    "                \n",
    "                prod_list.append(output)\n",
    "    return prod_list\n",
    "\n",
    "alcohol = simple_rxn(mols, aldehyde_to_alcohol)\n",
    "alcohol[0]"
   ]
  },
  {
   "cell_type": "markdown",
   "metadata": {},
   "source": [
    "# Toy dataset from ZINC\n",
    "First, load the dataset and choose 1000 random molecules"
   ]
  },
  {
   "cell_type": "code",
   "execution_count": null,
   "metadata": {},
   "outputs": [],
   "source": [
    "import random\n",
    "from rdkit.Chem.Scaffolds.MurckoScaffold import GetScaffoldForMol, MakeScaffoldGeneric\n",
    "\n",
    "df = pd.read_csv('zinc_250k.smi')\n",
    "smiles_list = list(df['SMILES'].values) # random.sample complains if I don't put list() around this\n",
    "uniq_mols = random.sample(smiles_list, 1000)"
   ]
  },
  {
   "cell_type": "markdown",
   "metadata": {},
   "source": [
    "Then we generate all-carbon scaffolds from those molecules"
   ]
  },
  {
   "cell_type": "code",
   "execution_count": null,
   "metadata": {},
   "outputs": [],
   "source": [
    "uniq_scaffs = []\n",
    "for smi in uniq_mols:\n",
    "    scaffold = GetScaffoldForMol(MolFromSmiles(smi))\n",
    "    scaffold = MakeScaffoldGeneric((scaffold))\n",
    "    uniq_scaffs.append(MolToSmiles(scaffold))\n",
    "uniq_scaffs = list(set(uniq_scaffs))\n",
    "print('Number of uniq scaffolds: {}'.format(len(uniq_scaffs)))\n",
    "uniq_scaffs = [MolFromSmiles(smi) for smi in uniq_scaffs]\n",
    "img = Draw.MolsToGridImage(uniq_scaffs[:10], molsPerRow=10)\n",
    "img"
   ]
  },
  {
   "cell_type": "markdown",
   "metadata": {},
   "source": [
    "Next, we randomly add aldehydes and methyl esters to sp3 carbons with 2 hydrogens"
   ]
  },
  {
   "cell_type": "code",
   "execution_count": null,
   "metadata": {},
   "outputs": [],
   "source": [
    "add_aldehyde = AllChem.ReactionFromSmarts('[CX4H2:1] >> [CX4H1:1][CX3H1](=O)')\n",
    "add_ester = AllChem.ReactionFromSmarts('[CX4H2:1] >> [CX4H1:1][CX3](=[O])[OX2H0][CX4]')\n",
    "\n",
    "aldehydes = []\n",
    "esters = []\n",
    "both_list = []\n",
    "#test = uniq_scaffs[:5]\n",
    "#for input in test:\n",
    "for input in uniq_scaffs:\n",
    "    try:\n",
    "        aldehyde = add_aldehyde.RunReactants((input,))[0][0]\n",
    "        sanitize(aldehyde)\n",
    "        aldehydes.append(aldehyde)\n",
    "        ester = add_ester.RunReactants((input,))[0][0]\n",
    "        sanitize(ester)\n",
    "        esters.append(ester)\n",
    "        both = add_aldehyde.RunReactants((ester,))[0][0]\n",
    "        sanitize(both)\n",
    "        both_list.append(both)\n",
    "    except:\n",
    "        continue\n",
    "print('Number of aldehydes: {}'.format(len(aldehydes)))\n",
    "print('Number of esters: {}'.format(len(esters)))\n",
    "print('Number of both: {}'.format(len(both_list)))\n",
    "products = aldehydes\n",
    "img = Draw.MolsToGridImage(random.sample(products,20), molsPerRow=10)\n",
    "img"
   ]
  },
  {
   "cell_type": "markdown",
   "metadata": {},
   "source": [
    "Finally, apply the aldehyde and ester reductions to construct separate lists of reaction SMILES for NaBH4, DIBAL, and LiAlH4 reactions - the three lists are concatenated and written to `toy_rxns.txt`"
   ]
  },
  {
   "cell_type": "code",
   "execution_count": null,
   "metadata": {},
   "outputs": [],
   "source": [
    "# 300 NaBH4 - aldehyde to alcohol (200 aldehydes, 100 both)\n",
    "# 300 DIBAL - ester to aldehyde (200 esters, 100 both)\n",
    "# 300 LiAlH4 - both to alcohol (100 aldehydes, 100 esters, 100 both)\n",
    "\n",
    "NaBH4 = '[BH4-].[Na+]'\n",
    "LiAlH4 = '[Al+3].[H-].[H-].[H-].[H-].[Li+]'\n",
    "DIBAL = 'CC(C)C[AlH]CC(C)C'\n",
    "\n",
    "#NaBH4\n",
    "inputs = random.sample(aldehydes, 200) + random.sample(both_list, 100)\n",
    "alcohols = simple_rxn(inputs, aldehyde_to_alcohol)\n",
    "NaBH4_rxns = []\n",
    "for i, mol in enumerate(alcohols):\n",
    "    rxn = MolToSmiles(inputs[i])+'.'+NaBH4+'>>'+MolToSmiles(mol)\n",
    "    NaBH4_rxns.append(rxn)\n",
    "\n",
    "\n",
    "# img = Draw.MolsToGridImage(inputs, molsPerRow=10)\n",
    "# img.show()\n",
    "# raise Exception\n",
    "# img = Draw.MolsToGridImage(alcohols, molsPerRow=10)\n",
    "# img.show()\n",
    "    \n",
    "#DIBAL\n",
    "inputs = random.sample(esters, 200) + random.sample(both_list, 100)\n",
    "alds = simple_rxn(inputs, ester_to_aldehyde)\n",
    "DIBAL_rxns = []\n",
    "for i, mol in enumerate(alds):\n",
    "    rxn = DIBAL+'.'+MolToSmiles(inputs[i])+'>>'+MolToSmiles(mol)\n",
    "    DIBAL_rxns.append(rxn)\n",
    "    \n",
    "#LiAlH4\n",
    "inputs = random.sample(esters,100)\n",
    "alcohols1 = simple_rxn(inputs, ester_to_alcohol)\n",
    "LiAlH4_rxns = []\n",
    "for i, mol in enumerate(alcohols1):\n",
    "    rxn = MolToSmiles(inputs[i])+'.'+LiAlH4+'>>'+MolToSmiles(mol)\n",
    "    LiAlH4_rxns.append(rxn)\n",
    "inputs = random.sample(aldehydes, 100)\n",
    "alcohols2 = simple_rxn(inputs, aldehyde_to_alcohol)\n",
    "for i, mol in enumerate(alcohols2):\n",
    "    rxn = MolToSmiles(inputs[i])+'.'+LiAlH4+'>>'+MolToSmiles(mol)\n",
    "    LiAlH4_rxns.append(rxn)\n",
    "inputs = random.sample(both_list, 100)\n",
    "alcohols3 = simple_rxn(inputs, aldehyde_to_alcohol)\n",
    "alcohols3 = simple_rxn(alcohols3, ester_to_alcohol)\n",
    "for i, mol in enumerate(alcohols3):\n",
    "    rxn = MolToSmiles(inputs[i])+'.'+LiAlH4+'>>'+MolToSmiles(mol)\n",
    "    LiAlH4_rxns.append(rxn)\n",
    "    \n",
    "all_rxns = NaBH4_rxns + DIBAL_rxns + LiAlH4_rxns\n",
    "with open('toy_rxns.txt', 'w') as filehandle:\n",
    "    filehandle.writelines(\"%s\\n\" % rxn for rxn in all_rxns)\n",
    "print('Toy dataset generated!')"
   ]
  }
 ],
 "metadata": {
  "kernelspec": {
   "display_name": "Python 3",
   "language": "python",
   "name": "python3"
  },
  "language_info": {
   "codemirror_mode": {
    "name": "ipython",
    "version": 3
   },
   "file_extension": ".py",
   "mimetype": "text/x-python",
   "name": "python",
   "nbconvert_exporter": "python",
   "pygments_lexer": "ipython3",
   "version": "3.7.7"
  }
 },
 "nbformat": 4,
 "nbformat_minor": 4
}
