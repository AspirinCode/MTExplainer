{
 "cells": [
  {
   "cell_type": "code",
   "execution_count": 1,
   "metadata": {},
   "outputs": [],
   "source": [
    "from rdkit.Chem import AllChem, MolFromSmiles, MolToSmiles, Draw\n",
    "from rdkit.Chem.rdmolops import FastFindRings\n",
    "from rdkit.Chem.Draw import IPythonConsole\n",
    "from rdkit import RDLogger  \n",
    "from rdkit import Chem\n",
    "from tqdm import tqdm\n",
    "import pandas as pd\n",
    "import numpy as np\n",
    "\n",
    "RDLogger.DisableLog('rdApp.*') # removes annoying RDKit warnings"
   ]
  },
  {
   "cell_type": "markdown",
   "metadata": {},
   "source": [
    "# Diels-Alder cycloaddition\n",
    "Define a simple Diels-Alder reaction SMARTS template between two molecules (does not count self-reactions):"
   ]
  },
  {
   "cell_type": "code",
   "execution_count": 2,
   "metadata": {},
   "outputs": [],
   "source": [
    "import itertools\n",
    "\n",
    "diels_alder = AllChem.ReactionFromSmarts('[C,N,O:1]=[C,N,O:2][C,N,O:3]=[C,N,O:4].[C:5]=[C:6]>>[C,N,O:1]1[C:2]=[C:3][C:4][C:5][C:6]1')\n",
    "diels_alder2 = AllChem.ReactionFromSmarts('[C,N,O:1]=[C,N,O:2][C,N,O:3]=[C,N,O:4].[C:5]=[C:6]>>[C,N,O:1]1[C:2]=[C:3][C:4][C:6][C:5]1')\n",
    "\n",
    "def check_dielsalder(src,prod):\n",
    "    src_list = src.split('.')\n",
    "    prod = MolToSmiles(MolFromSmiles(prod),isomericSmiles=False)\n",
    "    src_mols = [MolFromSmiles(mol) for mol in src_list]\n",
    "    if None in src_mols:\n",
    "        return 0\n",
    "    for pair in itertools.permutations(src_mols, r=2): # iterate over all src reactant pairings\n",
    "        prods = diels_alder.RunReactants((pair[0],pair[1]))\n",
    "        prods2 = diels_alder2.RunReactants((pair[0],pair[1])) # alternate arrangement\n",
    "        prods = prods+prods2\n",
    "        if prods!=():\n",
    "            for mol in prods:\n",
    "                pred = MolToSmiles(mol[0])\n",
    "                if pred==prod:\n",
    "                    return 1\n",
    "    return 0"
   ]
  },
  {
   "cell_type": "markdown",
   "metadata": {},
   "source": [
    "Check reactions from Pistachio labelled as 'Diels-Alder' reactions:"
   ]
  },
  {
   "cell_type": "code",
   "execution_count": 3,
   "metadata": {},
   "outputs": [
    {
     "name": "stderr",
     "output_type": "stream",
     "text": [
      "100%|██████████| 2397/2397 [00:06<00:00, 352.94it/s]"
     ]
    },
    {
     "name": "stdout",
     "output_type": "stream",
     "text": [
      "Number of simple Diels-Alder cycloadditions in Pistachio: 1493\n"
     ]
    },
    {
     "name": "stderr",
     "output_type": "stream",
     "text": [
      "\n"
     ]
    }
   ],
   "source": [
    "df = pd.read_csv('pist-diels.txt')\n",
    "n=0\n",
    "for i,row in tqdm(df.iterrows(), total=df.shape[0]):\n",
    "    val=check_dielsalder(row['src'],row['prod'])\n",
    "    if val==1:\n",
    "        n+=1\n",
    "    \n",
    "print(\"Number of simple Diels-Alder cycloadditions in Pistachio: \"+str(n))"
   ]
  },
  {
   "cell_type": "markdown",
   "metadata": {},
   "source": [
    "Iterate over USPTO and count lines:"
   ]
  },
  {
   "cell_type": "code",
   "execution_count": 4,
   "metadata": {
    "scrolled": true
   },
   "outputs": [
    {
     "name": "stderr",
     "output_type": "stream",
     "text": [
      "100%|██████████| 377419/377419 [08:33<00:00, 734.85it/s]"
     ]
    },
    {
     "name": "stdout",
     "output_type": "stream",
     "text": [
      "Number of simple Diels-Alder cycloadditions in USPTO: 7\n",
      "C1=CCCCC=C1.ClCCl.O=C1C=CC(=O)C=C1>>O=C1C=CC(=O)C2C3C=CC(CCC3)C12\n",
      "C=CC(=C)CCCCC.C=CC(=O)OCC.Cc1ccccc1.[Al+3].[Cl-].[Cl-].[Cl-]>>CCCCCC1=CCC(C(=O)OCC)CC1\n",
      "C=CC(=C)Cl.C=CC(C)=O.ClCCl.O.[Al+3].[Cl-].[Cl-].[Cl-]>>CC(=O)C1CC=C(Cl)CC1\n",
      "C=C(C)C=CC.C=Cc1ccccn1.CC1CCC(c2ccccn2)C(C)C1.c1ccncc1>>CC1=CC(C)C(c2ccccn2)CC1\n",
      "C1=CCCC=C1.CN1C(=O)C=CS1=O.ClCCCl>>CN1C(=O)C2C3C=CC(CC3)C2S1=O\n",
      "C1=CCCC=C1.O=C1C=CC(=O)C=C1.c1ccccc1>>O=C1C=CC(=O)C2C3C=CC(CC3)C12\n",
      "C1=CCCC=C1.Cc1ccccc1.O=S(=O)(C=CS(=O)(=O)c1ccccc1)c1ccccc1>>O=S(=O)(c1ccccc1)C1C2C=CC(CC2)C1S(=O)(=O)c1ccccc1\n"
     ]
    },
    {
     "name": "stderr",
     "output_type": "stream",
     "text": [
      "\n"
     ]
    }
   ],
   "source": [
    "df = pd.read_csv('MIT_train.txt')\n",
    "\n",
    "n=0\n",
    "rxn_list = []\n",
    "for i,row in tqdm(df.iterrows(), total=df.shape[0]):\n",
    "    val=check_dielsalder(row['src'],row['prod'])\n",
    "    if val==1:\n",
    "        n+=1\n",
    "        rxn_list.append(row['src']+'>>'+row['prod'])\n",
    "print(\"Number of simple Diels-Alder cycloadditions in USPTO: \"+str(n))\n",
    "for rxn in rxn_list:\n",
    "    print(rxn)"
   ]
  },
  {
   "cell_type": "markdown",
   "metadata": {},
   "source": [
    "# Friedel-Crafts Acylation\n",
    "Define SMARTS patterns for ortho-, meta-, and para- acylations on Benzene rings (ignores heteroatoms and 5-membered rings etc):"
   ]
  },
  {
   "cell_type": "code",
   "execution_count": 5,
   "metadata": {},
   "outputs": [],
   "source": [
    "para_rxn = AllChem.ReactionFromSmarts('[*:1]-!:[c:2]1[c:3][c:4][c:5][c:6][c:7]1.[C:8](=[O:9])~[*:10]>>[*:1]-!:[c:2]1[c:3][c:4][c:5]([C:8](=[O:9]))[c:6][c:7]1')\n",
    "meta_rxn = AllChem.ReactionFromSmarts('[*:1]-!:[c:2]1[c:3][c:4][c:5][c:6][c:7]1.[C:8](=[O:9])~[*:10]>>[*:1]-!:[c:2]1[c:3][c:4]([C:8](=[O:9]))[c:5][c:6][c:7]1')\n",
    "ortho_rxn = AllChem.ReactionFromSmarts('[*:1]-!:[c:2]1[c:3][c:4][c:5][c:6][c:7]1.[C:8](=[O:9])~[*:10]>>[*:1]-!:[c:2]1[c:3]([C:8](=[O:9]))[c:4][c:5][c:6][c:7]1')\n",
    "\n",
    "def check_para(src,prod):\n",
    "    src_list = src.split('.')\n",
    "    prod = MolToSmiles(MolFromSmiles(prod),isomericSmiles=False)\n",
    "    src_mols = [MolFromSmiles(mol) for mol in src_list]\n",
    "    if None in src_mols:\n",
    "        return 0\n",
    "    for pair in itertools.permutations(src_mols, r=2):\n",
    "        prods = para_rxn.RunReactants((pair[0],pair[1]))\n",
    "        if prods!=():\n",
    "            for mol in prods:\n",
    "                pred = MolToSmiles(mol[0])\n",
    "                if pred==prod:\n",
    "                    return 1\n",
    "    return 0\n",
    "\n",
    "def check_ortho(src,prod):\n",
    "    src_list = src.split('.')\n",
    "    prod = MolToSmiles(MolFromSmiles(prod),isomericSmiles=False)\n",
    "    src_mols = [MolFromSmiles(mol) for mol in src_list]\n",
    "    if None in src_mols:\n",
    "        return 0\n",
    "    for pair in itertools.permutations(src_mols, r=2):\n",
    "        prods = ortho_rxn.RunReactants((pair[0],pair[1]))\n",
    "        if prods!=():\n",
    "            for mol in prods:\n",
    "                pred = MolToSmiles(mol[0])\n",
    "                if pred==prod:\n",
    "                    return 1\n",
    "    return 0\n",
    "\n",
    "def check_meta(src,prod):\n",
    "    src_list = src.split('.')\n",
    "    prod = MolToSmiles(MolFromSmiles(prod),isomericSmiles=False)\n",
    "    src_mols = [MolFromSmiles(mol) for mol in src_list]\n",
    "    if None in src_mols:\n",
    "        return 0\n",
    "    for pair in itertools.permutations(src_mols, r=2):\n",
    "        prods = meta_rxn.RunReactants((pair[0],pair[1]))\n",
    "        if prods!=():\n",
    "            for mol in prods:\n",
    "                pred = MolToSmiles(mol[0])\n",
    "                if pred==prod:\n",
    "                    return 1\n",
    "    return 0"
   ]
  },
  {
   "cell_type": "markdown",
   "metadata": {},
   "source": [
    "Check reactions from Pistachio labelled as 'Friedel-Crafts Acylation':"
   ]
  },
  {
   "cell_type": "code",
   "execution_count": 6,
   "metadata": {
    "scrolled": true
   },
   "outputs": [
    {
     "name": "stderr",
     "output_type": "stream",
     "text": [
      "100%|██████████| 3592/3592 [00:23<00:00, 151.20it/s]"
     ]
    },
    {
     "name": "stdout",
     "output_type": "stream",
     "text": [
      "Number of para-directing Friedel-Crafts in Pistachio: 1534\n",
      "Number of meta-directing Friedel-Crafts in Pistachio: 896\n",
      "Number of ortho-directing Friedel-Crafts in Pistachio: 574\n",
      "Number of non-Benzene Friedel-Crafts in Pistachio: 1888\n"
     ]
    },
    {
     "name": "stderr",
     "output_type": "stream",
     "text": [
      "\n"
     ]
    }
   ],
   "source": [
    "df = pd.read_csv('pist-friedel.txt')\n",
    "df['para']=False\n",
    "df['meta']=False\n",
    "df['ortho']=False\n",
    "n_para=0\n",
    "n_meta=0\n",
    "n_ortho=0\n",
    "neither=0\n",
    "for i,row in tqdm(df.iterrows(), total=df.shape[0]):\n",
    "    para=check_para(row['src'],row['prod'])\n",
    "    meta=check_meta(row['src'],row['prod'])\n",
    "    ortho=check_ortho(row['src'],row['prod'])\n",
    "    if para==1:\n",
    "        n_para+=1\n",
    "        df.loc[i, 'para']=True\n",
    "    if meta==1:\n",
    "        n_meta+=1\n",
    "        df.loc[i, 'meta']=True\n",
    "    if ortho==1:\n",
    "        n_ortho+=1\n",
    "        df.loc[i, 'ortho']=True\n",
    "    if meta==0 and para==0 and ortho==0:\n",
    "        neither+=1\n",
    "        \n",
    "print(\"Number of para-directing Friedel-Crafts in Pistachio: \"+str(n_para))\n",
    "print(\"Number of meta-directing Friedel-Crafts in Pistachio: \"+str(n_meta))\n",
    "print(\"Number of ortho-directing Friedel-Crafts in Pistachio: \"+str(n_ortho))\n",
    "print(\"Number of non-Benzene Friedel-Crafts in Pistachio: \"+str(neither))"
   ]
  },
  {
   "cell_type": "markdown",
   "metadata": {},
   "source": [
    "### Para:"
   ]
  },
  {
   "cell_type": "code",
   "execution_count": 7,
   "metadata": {
    "scrolled": true
   },
   "outputs": [
    {
     "name": "stdout",
     "output_type": "stream",
     "text": [
      "Number of pure para rxn: 609\n",
      "Some examples:\n",
      "Brc1cccc2c(cccc12)Br.O=C(Cl)CCl.Brc1cccc2c(cccc12)Br.ClCCCl.Cl[Al](Cl)Cl.O>>O=C(CCl)c1ccc(c2cccc(c12)Br)Br\n",
      "C=C(C)C(=O)Cl.Brc1ccccc1.ClCCl.Cl[Al](Cl)Cl>>C=C(C)C(=O)c1ccc(cc1)Br\n",
      "C=C(C)C(=O)Cl.Fc1ccccc1.Cl[Al](Cl)Cl>>C=C(C)C(=O)c1ccc(cc1)F\n",
      "C=CC(=O)Cl.Brc1ccccc1.ClCCl.Cl[Al](Cl)Cl>>C=CC(=O)c1ccc(cc1)Br\n",
      "C=CC(=O)Cl.CCc1ccccc1.ClCCl.Cl[Al](Cl)Cl>>C=CC(=O)c1ccc(cc1)CC\n"
     ]
    }
   ],
   "source": [
    "df_para = df[df['para']]\n",
    "df_para = df_para[~df_para['meta']]\n",
    "df_para = df_para[~df_para['ortho']]\n",
    "print('Number of pure para rxn: {}\\n'.format(len(df_para)))\n",
    "print('Some examples:')\n",
    "for i,row in df_para[:5].iterrows():\n",
    "    print(row['src']+'>>'+row['prod'])"
   ]
  },
  {
   "cell_type": "markdown",
   "metadata": {},
   "source": [
    "### Meta:"
   ]
  },
  {
   "cell_type": "code",
   "execution_count": 8,
   "metadata": {},
   "outputs": [
    {
     "name": "stdout",
     "output_type": "stream",
     "text": [
      "Number of pure meta: 23\n",
      "Some examples:\n",
      "CC(=O)Cl.CC(=O)NCCc1cccc2ccc(cc12)OC.ClCCl.Cl[Al](Cl)Cl>>COc1ccc2cc(cc(c2c1)CCNC(C)=O)C(C)=O\n",
      "CC(=O)Cl.CC(=O)NOCc1cccc2ccc(cc12)OC.[O-][N+](=O)c1ccccc1.Cl[Al](Cl)Cl>>CC(=O)NOCc1cc(cc2ccc(cc12)OC)C(C)=O\n",
      "CC(=O)Cl.COc1ccc2cccc(c2c1)F.O.Cl.[O-][N+](=O)c1ccccc1.Cl[Al](Cl)Cl>>COc1ccc2cc(cc(c2c1)F)C(C)=O\n",
      "CC(=O)NCCc1cccc2ccc(cc12)OC.O=C(Cl)c1ccccc1.[O-][N+](=O)c1ccccc1.Cl[Al](Cl)Cl>>COc1ccc2cc(cc(c2c1)CCNC(C)=O)C(=O)c1ccccc1\n",
      "CC(C)(C)c1cc(cc(c1O)C(C)(C)C)CCC(=O)Cl.Oc1cccc(c1)O.Cl[Zn]Cl>>CC(C)(C)c1cc(cc(c1O)C(C)(C)C)CCC(=O)c1cc(cc(c1)O)O\n"
     ]
    }
   ],
   "source": [
    "df_meta = df[df['meta']]\n",
    "df_meta = df_meta[~df_meta['para']]\n",
    "df_meta = df_meta[~df_meta['ortho']]\n",
    "print('Number of pure meta: {}\\n'.format(len(df_meta)))\n",
    "print('Some examples:')\n",
    "for i,row in df_meta[:5].iterrows():\n",
    "    print(row['src']+'>>'+row['prod'])"
   ]
  },
  {
   "cell_type": "markdown",
   "metadata": {},
   "source": [
    "### Ortho:"
   ]
  },
  {
   "cell_type": "code",
   "execution_count": 9,
   "metadata": {
    "scrolled": true
   },
   "outputs": [
    {
     "name": "stdout",
     "output_type": "stream",
     "text": [
      "Number of pure ortho: 28\n",
      "Some examples:\n",
      "C=CC(=O)Cl.c1ccc(cc1)-c1cccc2ccccc21.ClCCl.Cl[Al](Cl)Cl>>C=CC(=O)c1ccc2ccccc2c1-c1ccccc1\n",
      "CC(=O)Cl.CC(=O)Oc1cc2CCc3ccccc3-c2c2ccc(cc12)OC.ClCCl.Cl[Al](Cl)Cl>>CC(=O)Oc1cc2CCc3ccccc3-c2c2cc(c(cc12)OC)C(C)=O\n",
      "CC(=O)Cl.CCOC(=O)c1oc2cccc(c2c1C)O.Clc1ccccc1.Cl[Ti](Cl)(Cl)Cl>>CCOC(=O)c1oc2ccc(c(c2c1C)O)C(C)=O\n",
      "CC(=O)Cl.CCOC(=O)c1oc2cccc(c2c1C)O.O.CC(Cl)Cl.Cl[Al](Cl)Cl>>CCOC(=O)c1oc2ccc(c(c2c1C)O)C(C)=O\n",
      "CC(=O)Cl.COc1ccc(cc1)-c1ccccc1.O.Cl.S=C=S.Cl[Al](Cl)Cl>>COc1ccc(cc1)-c1ccccc1C(C)=O\n"
     ]
    }
   ],
   "source": [
    "df_ortho = df[df['ortho']]\n",
    "df_ortho = df_ortho[~df_ortho['para']]\n",
    "df_ortho = df_ortho[~df_ortho['meta']]\n",
    "print('Number of pure ortho: {}\\n'.format(len(df_ortho)))\n",
    "print('Some examples:')\n",
    "for i,row in df_ortho[:5].iterrows():\n",
    "    print(row['src']+'>>'+row['prod'])"
   ]
  },
  {
   "cell_type": "markdown",
   "metadata": {},
   "source": [
    "Count occurences of overlaps:"
   ]
  },
  {
   "cell_type": "code",
   "execution_count": 10,
   "metadata": {},
   "outputs": [
    {
     "name": "stdout",
     "output_type": "stream",
     "text": [
      "Number of ortho-meta: 119\n",
      "Number of ortho-para: 171\n",
      "Number of para-meta: 498\n",
      "Number of all three: 256\n"
     ]
    }
   ],
   "source": [
    "df_ortho = df[df['ortho']]\n",
    "df_para = df[df['para']]\n",
    "df_meta = df[df['meta']]\n",
    "\n",
    "print('Number of ortho-meta in Pistachio: {}'.format(len(df_ortho[~df_ortho['para'] & df_ortho['meta']])))\n",
    "print('Number of ortho-para in Pistachio: {}'.format(len(df_ortho[~df_ortho['meta'] & df_ortho['para']])))\n",
    "print('Number of para-meta in Pistachio: {}'.format(len(df_para[~df_para['ortho'] & df_para['meta']])))\n",
    "print('Number of all three in Pistachio: {}'.format(len(df_ortho[df_ortho['para'] & df_ortho['meta']])))"
   ]
  },
  {
   "cell_type": "markdown",
   "metadata": {},
   "source": [
    "Check USPTO (takes ~1hr):"
   ]
  },
  {
   "cell_type": "code",
   "execution_count": 11,
   "metadata": {},
   "outputs": [
    {
     "name": "stderr",
     "output_type": "stream",
     "text": [
      "100%|██████████| 377419/377419 [1:15:24<00:00, 83.41it/s] "
     ]
    },
    {
     "name": "stdout",
     "output_type": "stream",
     "text": [
      "Number of para-directing Friedel-Crafts in USPTO: 952\n",
      "Number of meta-directing Friedel-Crafts in USPTO: 680\n",
      "Number of ortho-directing Friedel-Crafts in USPTO: 615\n"
     ]
    },
    {
     "name": "stderr",
     "output_type": "stream",
     "text": [
      "\n"
     ]
    }
   ],
   "source": [
    "df = pd.read_csv('MIT_train.txt')\n",
    "\n",
    "df['para']=False\n",
    "df['meta']=False\n",
    "df['ortho']=False\n",
    "\n",
    "n_para=0\n",
    "n_meta=0\n",
    "n_ortho=0\n",
    "neither=0\n",
    "for i,row in tqdm(df.iterrows(), total=df.shape[0]):\n",
    "    para=check_para(row['src'],row['prod'])\n",
    "    meta=check_meta(row['src'],row['prod'])\n",
    "    ortho=check_ortho(row['src'],row['prod'])\n",
    "    if para==1:\n",
    "        n_para+=1\n",
    "        df.loc[i, 'para']=True\n",
    "    if meta==1:\n",
    "        n_meta+=1\n",
    "        df.loc[i, 'meta']=True\n",
    "    if ortho==1:\n",
    "        n_ortho+=1\n",
    "        df.loc[i, 'ortho']=True\n",
    "    \n",
    "print(\"Number of para-directing Friedel-Crafts in USPTO: \"+str(n_para))\n",
    "print(\"Number of meta-directing Friedel-Crafts in USPTO: \"+str(n_meta))\n",
    "print(\"Number of ortho-directing Friedel-Crafts in USPTO: \"+str(n_ortho))"
   ]
  },
  {
   "cell_type": "markdown",
   "metadata": {},
   "source": [
    "Occurence counting:"
   ]
  },
  {
   "cell_type": "code",
   "execution_count": 12,
   "metadata": {},
   "outputs": [
    {
     "name": "stdout",
     "output_type": "stream",
     "text": [
      "Number of ortho-meta in USPTO: 219\n",
      "Number of ortho-para in USPTO: 151\n",
      "Number of para-meta in USPTO: 261\n",
      "Number of all three in USPTO: 193\n",
      "Number of pure para in USPTO: 347\n",
      "Number of pure meta in USPTO: 7\n",
      "Number of pure ortho in USPTO: 52\n"
     ]
    }
   ],
   "source": [
    "df_ortho = df[df['ortho']]\n",
    "df_para = df[df['para']]\n",
    "df_meta = df[df['meta']]\n",
    "\n",
    "print('Number of ortho-meta in USPTO: {}'.format(len(df_ortho[~df_ortho['para'] & df_ortho['meta']])))\n",
    "print('Number of ortho-para in USPTO: {}'.format(len(df_ortho[~df_ortho['meta'] & df_ortho['para']])))\n",
    "print('Number of para-meta in USPTO: {}'.format(len(df_para[~df_para['ortho'] & df_para['meta']])))\n",
    "print('Number of all three in USPTO: {}'.format(len(df_ortho[df_ortho['para'] & df_ortho['meta']])))\n",
    "\n",
    "df_para = df_para[~df_para['meta']]\n",
    "df_para = df_para[~df_para['ortho']]\n",
    "print('Number of pure para in USPTO: {}'.format(len(df_para)))\n",
    "df_meta = df_meta[~df_meta['para']]\n",
    "df_meta = df_meta[~df_meta['ortho']]\n",
    "print('Number of pure meta in USPTO: {}'.format(len(df_meta)))\n",
    "df_ortho = df_ortho[~df_ortho['para']]\n",
    "df_ortho = df_ortho[~df_ortho['meta']]\n",
    "print('Number of pure ortho in USPTO: {}'.format(len(df_ortho)))\n"
   ]
  }
 ],
 "metadata": {
  "kernelspec": {
   "display_name": "Python 3",
   "language": "python",
   "name": "python3"
  },
  "language_info": {
   "codemirror_mode": {
    "name": "ipython",
    "version": 3
   },
   "file_extension": ".py",
   "mimetype": "text/x-python",
   "name": "python",
   "nbconvert_exporter": "python",
   "pygments_lexer": "ipython3",
   "version": "3.7.7"
  }
 },
 "nbformat": 4,
 "nbformat_minor": 4
}
