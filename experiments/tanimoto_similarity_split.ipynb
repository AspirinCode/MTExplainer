{
 "cells": [
  {
   "cell_type": "code",
   "execution_count": 16,
   "metadata": {},
   "outputs": [],
   "source": [
    "import pandas as pd\n",
    "import numpy as np\n",
    "from rdkit import DataStructs\n",
    "from rdkit.Chem import Draw, MolFromSmiles, AllChem\n",
    "from tqdm import tqdm\n",
    "import matplotlib.pyplot as plt\n",
    "from hurry.filesize import size\n",
    "import random"
   ]
  },
  {
   "cell_type": "code",
   "execution_count": 3,
   "metadata": {},
   "outputs": [],
   "source": [
    "# df_train = pd.read_csv('template_matching/MIT_train.txt')\n",
    "# df_test = pd.read_csv('template_matching/MIT_test.txt')\n",
    "\n",
    "# df_train['mol'] = df_train['prod'].apply(lambda x: MolFromSmiles(x))\n",
    "# df_test['mol'] = df_test['prod'].apply(lambda x: MolFromSmiles(x))\n",
    "\n",
    "df_train = pd.read_csv('~/ml_physics/MolecularTransformer2/data/data/USPTO_15k/clean-traintgt.txt')\n",
    "df_test = pd.read_csv('~/ml_physics/MolecularTransformer2/data/data/USPTO_15k/clean-testtgt.txt')\n",
    "\n",
    "df_train['mol'] = df_train['SMILES'].apply(lambda x: MolFromSmiles(x))\n",
    "df_test['mol'] = df_test['SMILES'].apply(lambda x: MolFromSmiles(x))\n",
    "\n",
    "fprints_train = [AllChem.GetMorganFingerprintAsBitVect(mol, radius=3, nBits=1024) for mol in df_train['mol'].values]\n",
    "fprints_test = [AllChem.GetMorganFingerprintAsBitVect(mol, radius=3, nBits=1024) for mol in df_test['mol'].values]"
   ]
  },
  {
   "cell_type": "code",
   "execution_count": 20,
   "metadata": {},
   "outputs": [
    {
     "name": "stderr",
     "output_type": "stream",
     "text": [
      "100%|██████████| 9236/9236 [02:20<00:00, 65.97it/s]"
     ]
    },
    {
     "name": "stdout",
     "output_type": "stream",
     "text": [
      "S_matrix size: 183M\n"
     ]
    },
    {
     "name": "stderr",
     "output_type": "stream",
     "text": [
      "\n"
     ]
    }
   ],
   "source": [
    "S_matrix = np.empty((len(fprints_train), len(fprints_test)))\n",
    "bad_index_count=np.zeros(len(fprints_test))\n",
    "bad_indices=[]\n",
    "for i in tqdm(range(len(fprints_train))):\n",
    "    for j in range(len(fprints_test)):\n",
    "        S_matrix[i][j] = DataStructs.FingerprintSimilarity(fprints_train[i], fprints_test[j])\n",
    "        \n",
    "        sim = DataStructs.FingerprintSimilarity(fprints_train[i], fprints_test[j])\n",
    "        if sim > 0.6:\n",
    "            bad_index_count[j]=1\n",
    "            bad_indices.append((i,j))\n",
    "            \n",
    "print('S_matrix size: {}'.format(size(S_matrix.nbytes)))"
   ]
  },
  {
   "cell_type": "code",
   "execution_count": 21,
   "metadata": {},
   "outputs": [
    {
     "name": "stdout",
     "output_type": "stream",
     "text": [
      "bad_indices: 37.1%\n",
      "\n",
      "Examples:\n",
      "Cc1nn(C)cc1-n1c(=O)n(C)c2cnc3ccc(-c4cnc5ccccc5c4)cc3c21 Cc1ncc(-c2ccc3ncc4c(c3c2)n(-c2cn(C)nc2C)c(=O)n4C)cc1N(C)C\n",
      "O=C(NCc1cn(-c2ccccc2)c2cc(Cl)ccc2c1=O)N1CCOCC1 O=C(NCc1cn(-c2ccccc2)c2cc(Cl)ccc2c1=O)N1CCC(c2ccccc2)CC1\n",
      "COCCCON1C(=O)c2ccccc2C1=O COCCON1C(=O)c2ccccc2C1=O\n",
      "Nc1ncnn2c(-c3cccc(CNC4CCC4)c3)cc(-c3ccc4cn(Cc5ccccc5)nc4c3)c12 Nc1ncnn2c(-c3ccc(CN4CCC(F)(F)C4)cc3)cc(-c3ccc4cn(Cc5ccccc5)nc4c3)c12\n",
      "CN(C(=O)N(C)C1CN(C(=O)CC#N)CC1c1ccc(F)cc1)c1cc(C(F)(F)F)cc(C(F)(F)F)c1 CN(C(=O)N(C)C1CN(C(=O)C2CC(F)(F)C2)CC1c1ccc(F)cc1)c1cc(C(F)(F)F)cc(C(F)(F)F)c1\n",
      "CC(C)(C)c1cc2cc(NC(=O)C3(c4ccc5c(c4)OCO5)CC3)cc(C(N)=O)c2[nH]1 COC(=O)c1cc(NC(=O)C2(c3ccc4c(c3)OCO4)CC2)cc2cc(C(C)(C)C)[nH]c12\n",
      "CC(=O)Nc1cc(-c2ccc3ncc4c(c3c2)n(-c2cn(C)nc2C)c(=O)n4C)cnc1Cl Cc1nn(C)cc1-n1c(=O)n(C)c2cnc3ccc(-c4cnc5cc[nH]c5c4)cc3c21\n",
      "COC(=O)CCC(C(N)=O)N1Cc2c(OCc3ccc(CN4CCC(OC)CC4)cc3)cccc2C1=O COC(=O)CCC(C(N)=O)N1Cc2c(OCc3ccc(Cn4cnnc4)cc3)cccc2C1=O\n",
      "CCOc1cc(C(C)(C)C)ncc1C1=NC(C)(c2ccc(Cl)cc2)C(C)(c2ccc(Cl)cc2)N1C(=O)N1CCC(NS(C)(=O)=O)CC1 CCOc1cc(C(C)(C)C)ncc1C1=NC(C)(c2ccc(Cl)cc2)C(C)(c2ccc(Cl)cc2)N1C(=O)N1CCN(CC(=O)NCC2CCCO2)CC1\n",
      "CCOC(=O)COc1ccc(Sc2cc(C#CCN3CCOCC3)cc(OCCc3ccc(Cl)cc3)c2)cc1C Cc1cc(Sc2cc(C#CCN3CCOCC3)cc(OCc3ccc(Cl)cc3)c2)ccc1OCC(=O)O\n",
      "CN(C)C(=O)c1c(CNC(=O)c2ccc(Cl)nc2)c(=O)c2ccc(Cl)cc2n1-c1ccccc1 CN(C)C(=O)c1c(CNC(=O)c2ccc(N3CCOCC3)cc2)c(=O)c2ccc(Cl)cc2n1-c1ccccc1\n",
      "CCOc1ccc(C2(O)CCC(N3CC(NC(=O)CNC(=O)c4cccc(C(F)(F)F)c4)C3)CC2)cn1 O=C(CNC(=O)c1cccc(C(F)(F)F)c1)NC1CN(C2CCC(O)(c3cncnc3)CC2)C1\n",
      "CCOc1cc(C(C)(C)C)ncc1C1=NC(C)(c2ccc(Cl)cc2)C(C)(c2ccc(Cl)cc2)N1C(=O)N1CCC(O)C1 CCOc1cc(C(C)(C)C)ncc1C1=NC(C)(c2ccc(Cl)cc2)C(C)(c2ccc(Cl)cc2)N1C(=O)N1CCC(CC(=O)NC(CC)CC)CC1\n",
      "CCCOc1ccc(-c2ccc3ncc4c(c3c2)n(-c2cn(C)nc2C)c(=O)n4C)cn1 CCN(C)c1cc(-c2ccc3ncc4c(c3c2)n(-c2cn(C)nc2C)c(=O)n4C)cnc1C\n",
      "CC(c1ccc(-c2ncccc2C#N)cc1)N1CCC(CC(C)(C)O)(c2ccccc2)OC1=O COc1ccc(-c2ccc(C(C)N3CCC(CC(C)(C)O)(c4ccccc4)OC3=O)cc2)cn1\n",
      "Cn1ncc(Cl)c1-c1cc(C(=O)NC(CN)CC2CCCCC2)sc1Cl Cn1ncc(Br)c1-c1cc(C(=O)NC(CN)CC2CCCCC2)sc1Cl\n",
      "Cc1cc(-c2ccc(C(C)N3CCC(CCCO)(c4ccc(F)cc4)OC3=O)cc2)ccn1 Cc1cccc(-c2ccc(C(C)N3CCC(CCCO)(c4ccc(F)cc4)OC3=O)cc2)n1\n",
      "CCOc1cc2ncnc(Oc3cccc(NC(=O)Nc4cc(C(C)(C)C)on4)c3)c2cc1OC COc1cc2ncnc(Oc3cccc(NC(=O)Nc4cc(C(C)(C)C)on4)c3)c2cc1OCCCN1CCOCC1\n",
      "CCOc1cc(C(C)(C)C)ncc1C1=NC(C)(c2ccc(Cl)cc2)C(C)(c2ccc(Cl)cc2)N1C(=O)N1CCC(N2CCNC(=O)C2)CC1 CCOc1cc(C(C)(C)C)ncc1C1=NC(C)(c2ccc(Cl)cc2)C(C)(c2ccc(Cl)cc2)N1C(=O)N1CCC(CC(=O)NC(C)c2ccccc2)CC1\n",
      "c1cnc2ccc(Sc3nnc4ccc(-c5cn[nH]c5)nn34)cc2c1 Cn1cc(-c2ccc3nnc(Sc4ccc5ncccc5c4)n3n2)cn1\n",
      "Cc1onc(-c2ccccc2)c1COc1ccc(N)cn1 Cc1onc(-c2ccccc2)c1COc1ccc(C(=O)O)cn1\n",
      "COc1ccc2oc(C(Nc3ccc(C(=O)N(C)CCC(=O)O)cc3)C3CCCCC3)c(C)c2c1 CSCCCOc1ccc2oc(C(Nc3ccc(C(=O)N(C)CCC(=O)O)cc3)C3CCCCC3)c(C)c2c1\n",
      "Cc1c(C(Nc2ccc(C(=O)N(C)CCC(=O)O)cc2)C2CCCC2)sc2ccccc12 Cc1c(C(Nc2ccc(C(=O)N(C)CCC(=O)O)cc2)C2CCCC2)sc2ccccc12\n",
      "CN(C(=O)c1ccc(Cl)cc1)C1CCN(C(=O)C2CCN(C(=O)c3ccccc3)CC2)CC1c1ccc(Cl)c(Cl)c1 CN(C(=O)c1ccc(Cl)cc1)C1CCN(C(=O)C2CCN(C(=O)C3CC3)CC2)CC1c1ccc(Cl)c(Cl)c1\n",
      "COc1nc2ccc(C)cc2nc1NC(=O)N1CCN(c2ccccc2)CC1 COc1ccc(N2CCN(C(=O)Nc3nc4cc(C)ccc4nc3OC)CC2)cc1\n",
      "COc1cn(-c2ccc(N3CCC(F)(F)C3)cc2F)nc(-c2ccnn2-c2ccccc2)c1=O COc1cn(-c2ccc(N3CCCC3=O)cc2F)nc(-c2ccnn2-c2ccccc2)c1=O\n",
      "COc1cn(-c2ccc(N3CCC(C)(O)CC3)cc2F)nc(-c2ccnn2-c2ccccc2)c1=O COc1cn(-c2ccc(N3CCOCC3)cc2F)nc(-c2ccnn2-c2ccccc2)c1=O\n",
      "CCOc1cc(C(C)(C)C)ncc1C1=NC(C)(c2ccc(Cl)cc2)C(C)(c2ccc(Cl)cc2)N1C(=O)N1CCN(CC(=O)Nc2ccncc2)CC1 CCOc1cc(C(C)(C)C)ncc1C1=NC(C)(c2ccc(Cl)cc2)C(C)(c2ccc(Cl)cc2)N1C(=O)N1CCC(N2CCN(C)CC2)CC1\n",
      "CC(c1ccc(-c2cc(C#N)ccn2)cc1)N1CCC(CC(C)(C)O)(c2ccccc2)OC1=O CC(c1ccc(-c2cscn2)cc1)N1CCC(CC(C)(C)O)(c2ccccc2)OC1=O\n",
      "CN1CCN(c2cc(N3CCc4ccc(N5CCC(c6ccc(C(N)=O)cc6)CC5)cc4C3)nc(N)n2)CC1 CC(=O)N1CCN(c2ccc3c(c2)CN(c2cc(N4CCN(C)CC4)nc(N)n2)CC3)CC1\n",
      "CCOCC1CCN(C(=O)CC2CCN(C(=O)N3C(c4cnc(C(C)(C)C)cc4OCC)=NC(C)(c4ccc(Cl)cc4)C3(C)c3ccc(Cl)cc3)CC2)CC1 CCOc1cc(C(C)(C)C)ncc1C1=NC(C)(c2ccc(Cl)cc2)C(C)(c2ccc(Cl)cc2)N1C(=O)N1CCC(CC(=O)NC(CC)CC)CC1\n",
      "CCOc1cc(C(C)(C)C)ncc1C1=NC(C)(c2ccc(Cl)cc2)C(C)(c2ccc(Cl)cc2)N1C(=O)N1CCN(CC(=O)Nc2ccncc2)CC1 CCOc1cc(C(C)(C)C)ncc1C1=NC(C)(c2ccc(Cl)cc2)C(C)(c2ccc(Cl)cc2)N1C(=O)N1CCC(CC(=O)N2CCCN(C)CC2)CC1\n",
      "Cc1cnc(C(=O)Nc2c[nH]c3ncc(Br)c(N4CCCC(NC(=O)OC(C)(C)C)C4)c23)cn1 COC1(C(=O)Nc2c[nH]c3ncc(Br)c(N4CCCC(NC(=O)OC(C)(C)C)C4)c23)CC1\n",
      "CCOc1cc(C(C)(C)C)ncc1C1=NC(C)(c2ccc(Cl)cc2)C(C)(c2ccc(Cl)cc2)N1C(=O)N1CCN(CCCOC)CC1 CCOc1cc(C(C)(C)C)ncc1C1=NC(C)(c2ccc(Cl)cc2)C(C)(c2ccc(Cl)cc2)N1C(=O)N1CCC(CC(=O)N2CCCC2C)CC1\n",
      "CC(=O)OCCCCNC(=O)OC(C)(C)C CCOC(=O)OCCCCNC(=O)OC(C)(C)C\n",
      "CCCCN(C(=O)CC1CCN(C(=O)N2C(c3cnc(C(C)(C)C)cc3OCC)=NC(C)(c3ccc(Cl)cc3)C2(C)c2ccc(Cl)cc2)CC1)C(C)C CCOc1cc(C(C)(C)C)ncc1C1=NC(C)(c2ccc(Cl)cc2)C(C)(c2ccc(Cl)cc2)N1C(=O)N1CCC(N2CCN(C)CC2)CC1\n",
      "COC(=O)NCCOC(c1cc(Cl)ccc1C)C1CCCN(C(=O)OC(C)(C)C)C1 Cc1ccc(Cl)cc1C(OCCOS(C)(=O)=O)C1CCCN(C(=O)OC(C)(C)C)C1\n",
      "CC(C)c1c(C(=O)NCc2ccc(F)c(F)c2)c2ccc(OCc3ccccc3)cc2n1Cc1ccccc1 COc1ccc2c(C(=O)NCc3ccc(F)c(F)c3)c(C(C)C)n(Cc3ccccc3)c2c1\n",
      "COc1ccc(N2CCN(C(=O)Nc3nc4ccc(OC)cc4nc3OC)CC2)cc1 COc1ccc2nc(NC(=O)N3CCN(c4ccccc4C)CC3)c(OC)nc2c1\n",
      "COc1ccc2nc(OC)c(NC(=O)N3CCN(c4ccccc4C)CC3)nc2c1 COc1nc2ccc(C)cc2nc1NC(=O)N1CCN(c2ccccc2C)CC1\n",
      "CC(C)n1ncnc1-c1cn2c(n1)-c1ccc(C=O)cc1OCC2 CC(C)n1ncnc1-c1cn2c(n1)-c1ccc(OC(C(N)=O)C3CC3)cc1OCC2\n",
      "CCN(CCOc1ccccc1)Cc1ccc(COc2cccc3c2CN(C2CCC(=O)NC2=O)C3=O)cc1 O=C1CCC(N2Cc3c(OCc4ccc(CN5Cc6ccccc6C5)cc4)cccc3C2=O)C(=O)N1\n",
      "C=CCC1(C)CC(c2cccc(Cl)c2)C(c2ccc(Cl)cc2)N(C(CC)C(C)=O)C1=O C=CCC1(C)CC(c2cccc(Cl)c2)C(c2ccc(Cl)cc2)N(C(CC)CSc2ccccc2)C1=O\n",
      "COc1ccc(C(=O)Nc2nc(C)c(C(=O)NCc3ccccc3)s2)cc1 Cc1nc(NC(=O)c2ccc(OC(F)(F)F)cc2)sc1C(=O)NCc1ccccc1\n",
      "Cc1noc(C)c1Cn1cc(N2C(=O)CN(CCc3ccc(O)cc3)C2=O)cn1 Cc1noc(C)c1Cn1cc(N2C(=O)CN(CCc3ccccc3F)C2=O)cn1\n",
      "Cc1cc(-c2ccc(C(F)(F)F)nc2)nc(-c2cccc(-c3ccc(S(N)(=O)=O)s3)c2)n1 NS(=O)(=O)c1ccc(-c2cccc(-c3nc(-c4ccc(C(F)(F)F)nc4)cc(C(F)F)n3)c2)s1\n",
      "CCCCCCOC(=O)N1C(=O)CCc2ccc(OCCCCN3CCN(c4cccc(Cl)c4Cl)CC3)cc21 O=C1CCc2ccc(OCCCCN3CCN(c4cccc(Cl)c4Cl)CC3)cc2N1C(=O)OCCl\n",
      "CC(O)CN1CCN(c2ccc(Nc3ncc4ccc(-c5ccccc5N(C)S(C)(=O)=O)n4n3)cc2)CC1 COc1cc(CN2CCN(CC(C)O)CC2)ccc1Nc1ncc2ccc(-c3ccccc3N(C)S(C)(=O)=O)n2n1\n",
      "CCCC(C)Oc1nc(N)c2nc(OC)n(CCCCC3CCCN(C(=O)OCc4ccccc4)C3)c2n1 CCCC(C)Oc1nc(N)c2nc(OC)n(CCC3CCCN(C(=O)OCc4ccccc4)C3)c2n1\n",
      "COc1cc(OC)cc(N2CCN(C(=O)Nc3nc4cc(F)ccc4nc3OC)CC2)c1 COc1nc2ccc(F)cc2nc1NC(=O)N1CCN(c2cc(C)cc(C)c2)CC1\n",
      "COc1nc2cc(Cl)ccc2nc1NC(=O)N1CCN(c2cc(C)cc(C)c2)CC1 COc1nc2cc(Cl)ccc2nc1NC(=O)N1CCN(c2ccccc2Cl)CC1\n",
      "CC(C)CC(=O)Nc1c[nH]c2ncc(Br)c(N3CCCC(NC(=O)OC(C)(C)C)C3)c12 COCC(=O)Nc1c[nH]c2ncc(Br)c(N3CCCC(NC(=O)OC(C)(C)C)C3)c12\n",
      "C=CCC(=O)Nc1cccc(-c2cnc3ccccc3n2)c1 O=C(CCl)Nc1cccc(-c2cnc3ccccc3n2)c1\n",
      "CC(=O)NCC1CCC(C(=O)N2CC(c3ccc(F)cc3)C(N(C)C(=O)N(C)c3cc(C(F)(F)F)cc(C(F)(F)F)c3)C2)CC1 CN(C(=O)N(C)C1CN(C(=O)C2CCC(NS(=O)(=O)CCCCl)CC2)CC1c1ccc(F)cc1)c1cc(C(F)(F)F)cc(C(F)(F)F)c1\n",
      "CC(c1ccc(-c2ccc(=O)n(C)c2)cc1)N1CCC(CCCO)(c2ccc(F)cc2)OC1=O CC(c1ccc(-c2ccncn2)cc1)N1CCC(CCCO)(c2ccc(F)cc2)OC1=O\n",
      "COc1cccc2c1nc(C(F)F)n2-c1nc(N2CCOCC2)nc(N2CCN(S(=O)(=O)CCN3CCOCC3)CC2)n1 COc1cccc2c1nc(C(F)F)n2-c1nc(N2CCOCC2)nc(N2CCC(N(CCCN3CCOCC3)S(C)(=O)=O)CC2)n1\n",
      "CCOc1cc(C(C)(C)C)ncc1C1=NC(C)(c2ccc(Cl)cc2)C(C)(c2ccc(Cl)cc2)N1C(=O)N1CCN(CC(=O)NCCO)CC1 CCOc1cc(C(C)(C)C)ncc1C1=NC(C)(c2ccc(Cl)cc2)C(C)(c2ccc(Cl)cc2)N1C(=O)N1CCNC(C)C1\n",
      "CCOc1cc(C(C)(C)C)ncc1C1=NC(C)(c2ccc(Cl)cc2)C(C)(c2ccc(Cl)cc2)N1C(=O)N1CCC(CC(=O)NCc2ccc(Cl)cc2)CC1 CCOc1cc(C(C)(C)C)ncc1C1=NC(C)(c2ccc(Cl)cc2)C(C)(c2ccc(Cl)cc2)N1C(=O)N1CCN(C(N)=O)CC1\n",
      "CCc1cc(Oc2ccc(S(C)(=O)=O)nc2)cc2cc(C3=NCC(CC(=O)O)S3)[nH]c12 CCc1cc(Oc2ccc(S(C)(=O)=O)nc2)cc2cc(C3=NCC(CC(=O)N4CCS(=O)CC4)S3)[nH]c12\n",
      "NC(=O)c1cc(-c2ccccc2)cc2c(C3CCN(S(=O)(=O)CCCN4CCCC4)CC3)n[nH]c12 NC(=O)c1cc(-c2ccccc2)cc2c(C3CCN(S(=O)(=O)CCCN4CCNC(CCO)C4)CC3)n[nH]c12\n",
      "COCC(C)Oc1cc(Oc2ccc(S(=O)(=O)N3CCC3)nc2)cc(-c2ccc(C3=NCC(C)O3)[nH]2)c1 CNC(=O)c1ccc(Oc2cc(OC(C)COC)cc(-c3ccc(C4=NCC(C)O4)[nH]3)c2)cn1\n",
      "COc1nc2cc(Cl)ccc2nc1NC(=O)N1CCN(c2ccc(F)cc2)CC1 COc1cccc(N2CCN(C(=O)Nc3nc4ccc(Cl)cc4nc3OC)CC2)c1\n",
      "Cc1c(C(CC(C)C)Nc2ccc(C(=O)N(C)CCC(=O)O)cc2)oc2ccc(OCc3ccccc3)cc12 COc1ccc2oc(C(CC(C)C)Nc3ccc(C(=O)N(C)CCC(=O)O)cc3)c(C)c2c1\n",
      "Cc1nc(-n2ccc(OCc3ccccc3)cc2=O)sc1C(=O)NCc1nc2ccccc2o1 Cc1nc(CNC(=O)c2sc(-n3ccc(OCc4ccccc4)cc3=O)nc2C)cs1\n",
      "O=C(NCc1cn(-c2ccccc2)c2cc(Cl)ccc2c1=O)Nc1ccccc1 O=C(NCc1cn(-c2ccccc2)c2cc(Cl)ccc2c1=O)N1CCCCC1\n",
      "CC(C)(C)OC(=O)NCc1cc(CN(Cc2ccc(F)cc2)S(=O)(=O)c2cc(Cl)cc(Cl)c2O)cc(Oc2ccc(F)cc2)c1 CC(C)CN(Cc1cc(CN(Cc2ccc(F)cc2)S(=O)(=O)c2cc(Cl)cc(Cl)c2O)cc(Oc2ccc(F)cc2)c1)S(=O)(=O)c1cc(Cl)cc(Cl)c1\n",
      "CC1(C)Cc2cc(C(=O)O)ccc2NC1c1cccc(N2CCNC2=O)c1 CC1CN(c2cccc(C3Nc4ccc(C(=O)O)cc4CC3(C)C)c2)CC(C)O1\n",
      "Nc1ncnn2c(C3CCN(C(=O)C4CCCN4)CC3)cc(-c3ccc4cn(Cc5ccccc5)nc4c3)c12 CN(C)CC(=O)N1CCCCC1c1cc(-c2ccc3cn(Cc4ccccc4)nc3c2)c2c(N)ncnn12\n",
      "CN(C)C(=O)c1cc2c(N3CCOCC3)nc(-c3cccc4[nH]ncc34)nc2s1 CS(=O)(=O)N1CCN(C(=O)c2cc3c(N4CCOCC4)nc(-c4cccc5[nH]ncc45)nc3s2)CC1\n",
      "COC(=O)c1ccc(Oc2ccc(C(C)C(O)(c3ccc4c(c3)N(C)C(=O)CO4)C(F)(F)F)c(Cl)c2)nc1Cl COC(=O)c1ccc(Oc2ccc(C(C)C(O)(c3ccc4c(c3)N(C)C(=O)CO4)C(F)(F)F)c(Cl)c2)cc1\n",
      "CC(C)c1ccc2c(ccc(=O)n2CCN2CCC(N(Cc3ccc4c(c3)OCCO4)C(=O)OC(C)(C)C)CC2)c1 CC(C)(C)OC(=O)N(Cc1ccc2c(c1)OCCO2)C1CCN(CCn2c(=O)ccc3c(OCC(=O)O)cccc32)CC1\n",
      "CS(=O)(=O)N1CCC(c2cc(-c3ccc4cn(Cc5ccccc5)nc4c3)c3c(N)ncnn23)CC1 CN(C)S(=O)(=O)N1CCC(c2cc(-c3ccc4cn(Cc5ccccc5)nc4c3)c3c(N)ncnn23)CC1\n",
      "CCCCOc1nc(N)c2nc(OC)n(CCCCCCC3CCNCC3)c2n1 CCCCOc1nc(N)c2nc(OC)n(CCCCCCC3CCN(CC)CC3)c2n1\n",
      "CCOc1cc(C(C)(C)C)ncc1C1=NC(C)(c2ccc(Cl)cc2)C(C)(c2ccc(Cl)cc2)N1C(=O)N1CCC(CC(=O)N(CC)CC)CC1 CCOc1cc(C(C)(C)C)ncc1C1=NC(C)(c2ccc(Cl)cc2)C(C)(c2ccc(Cl)cc2)N1C(=O)N1CCC(CC(=O)NC(C)c2ccccc2)CC1\n",
      "CC(C)(C)OC(=O)N1CCCC(C(OCCO)c2cccc(Cl)c2)C1 CC(C)(C)OC(=O)N1CCCC(C(OCCOS(C)(=O)=O)c2cccc(Cl)c2)C1\n",
      "CCNCCN1CCSc2ccc(NC(=N)c3cccs3)cc21 CCNCCN1CCSc2cc(NC(=N)c3cccs3)ccc21\n",
      "OCCCNc1nc2cc(Br)ccc2n2ccnc12 OCCCNc1nc2cc(F)c(F)cc2n2ccnc12\n",
      "OCCNc1cc2nc(-c3cccc4[nH]ncc34)nc(N3CCOCC3)c2s1 O=C(NCCN1CCOCC1)c1cc2nc(-c3cccc4[nH]ncc34)nc(N3CCOCC3)c2s1\n",
      "Cn1nnnc1C(=NOCc1cccc(C=NO)n1)c1ccccc1 Cn1nnnc1C(=NOCc1cccc(CN)n1)c1ccccc1\n",
      "Nc1ncccc1-c1cc(Cc2ccc(OCc3cccc(F)c3)cc2)no1 Nc1ncccc1-c1cc(Cc2ccc(OCc3ccccn3)cc2)no1\n",
      "CCc1nc2c(C)cc(C)nc2n1Cc1ccc(NC2CCN(C3CCN(C)CC3)CC2)cc1 CCc1nc2c(C)cc(C)nc2n1Cc1ccc(NC2CCN(C(=O)C3CCNCC3)CC2)cc1\n",
      "CNC(=O)c1ccc(-c2ccc(C(C)N3CCC(CC(C)(C)O)(c4ccccc4)OC3=O)cc2)nn1 CC(c1ccc(-c2cscn2)cc1)N1CCC(CC(C)(C)O)(c2ccccc2)OC1=O\n",
      "C=CCCNC(=O)CC1CCN(C(=O)N2C(c3cnc(C(C)(C)C)cc3OCC)=NC(C)(c3ccc(Cl)cc3)C2(C)c2ccc(Cl)cc2)CC1 CCCCC(C)NC(=O)CC1CCN(C(=O)N2C(c3cnc(C(C)(C)C)cc3OCC)=NC(C)(c3ccc(Cl)cc3)C2(C)c2ccc(Cl)cc2)CC1\n",
      "COc1cn(-c2ccc(-n3ccnc3)cc2F)nc(-c2ccnn2-c2ccccc2)c1=O COc1cn(-c2ccc(N3CCOCC3)cc2F)nc(-c2ccnn2-c2ccccc2)c1=O\n",
      "COc1cc2c(Oc3ccc4[nH]c(C)cc4c3F)ncnc2cc1OCC1CCN(C)CC1 COc1cc2c(Oc3ccc4[nH]c(C)cc4c3F)ncnc2cc1OCC(O)CN1CCCC1\n",
      "CCOc1cc(C(C)(C)C)ncc1C1=NC(C)(c2ccc(Cl)cc2)C(C)(c2ccc(Cl)cc2)N1C(=O)N1CCN(C(=O)C(C)C)CC1 CCOc1cc(C(C)(C)C)ncc1C1=NC(C)(c2ccc(Cl)cc2)C(C)(c2ccc(Cl)cc2)N1C(=O)N1CCC(CC(=O)NC(C)c2ccccc2)CC1\n",
      "CCOc1cc(C(C)(C)C)ncc1C1=NC(C)(c2ccc(Cl)cc2)C(C)(c2ccc(Cl)cc2)N1C(=O)N1CCC(CC(=O)N2CCCc3cc(C)ccc32)CC1 CCOc1cc(C(C)(C)C)ncc1C1=NC(C)(c2ccc(Cl)cc2)C(C)(c2ccc(Cl)cc2)N1C(=O)N1CCC(CC(=O)N2CCCC2C)CC1\n",
      "CCOc1cc(C(C)(C)C)ncc1C1=NC(C)(c2ccc(Cl)cc2)C(C)(c2ccc(Cl)cc2)N1C(=O)N1CCN(CC(=O)N(CCO)CCO)CC1 CCOc1cc(C(C)(C)C)ncc1C1=NC(C)(c2ccc(Cl)cc2)C(C)(c2ccc(Cl)cc2)N1C(=O)N1CCC(NCC(N)=O)CC1\n",
      "COC(=O)c1c(Cn2ccc(C(=O)O)cc2=O)c(=O)c2ccc(Cl)cc2n1-c1ccccc1 COC(=O)c1c(CBr)c(=O)c2ccc(Cl)cc2n1-c1ccccc1\n",
      "CN(C(=O)c1ccc(Cl)cc1)C1CCN(C(=O)C2CCN(C(N)=O)CC2)CC1c1ccc(Cl)c(Cl)c1 CC(=O)N1CCC(N(C)C(=O)N2CCC(N(C)C(=O)c3ccc(Cl)cc3)C(c3ccc(Cl)c(Cl)c3)C2)CC1\n",
      "Cc1cc(-c2ccc(C(C)N3CCC(CCO)(c4ccc(F)cc4)OC3=O)cc2)ccn1 Cc1cc(-c2ccc(C(C)N3CCC(CC(C)(C)C#N)(c4ccc(F)cc4)OC3=O)cc2)ccn1\n",
      "COC(=O)c1ccc(-c2nc3n(c2-c2ccc(C4(NC(=O)OC(C)(C)C)CCC4)cc2)-c2cccnc2Nc2ccccc2-3)cn1 CC(=O)Nc1ccc(-c2nc3n(c2-c2ccc(C4(NC(=O)OC(C)(C)C)CCC4)cc2)-c2cccnc2Nc2ccccc2-3)cc1\n",
      "COC(=O)CCC(C(N)=O)N1Cc2c(OCc3ccc(CCC4CCOCC4)cc3)cccc2C1=O COC(=O)CCC(C(N)=O)N1Cc2c(OCc3ccc(Cn4cnnc4)cc3)cccc2C1=O\n",
      "O=C1CCC(N2Cc3c(OCc4ccc(CN5CCC(c6ccc(Cl)cc6)CC5)cc4)cccc3C2=O)C(=O)N1 Cc1cc(COc2cccc3c2CN(C2CCC(=O)NC2=O)C3=O)ccc1Cl\n",
      "CS(=O)(=O)NCc1cccc(-c2cc(-c3ccc4cn(Cc5ccccc5)nc4c3)c3c(N)ncnn23)c1 Nc1ncnn2c(-c3ccc(CN4CCC(F)(F)C4)cc3)cc(-c3ccc4cn(Cc5ccccc5)nc4c3)c12\n",
      "CN(C(=O)c1ccc(Cl)cc1)C1CCN(C(=O)C2CC(=O)CN2C(=O)OC(C)(C)C)CC1c1ccc(Cl)c(Cl)c1 CC(=O)N1CCCC1C(=O)N1CCC(N(C)C(=O)c2ccc(Cl)cc2)C(c2ccc(Cl)c(Cl)c2)C1\n",
      "COC(=O)N1C(=O)CCc2ccc(OCCCCN3CCN(c4cccc(Cl)c4Cl)CC3)cc21 O=C1CCc2ccc(OCCCCN3CCN(c4cccc(Cl)c4Cl)CC3)cc2N1C(=O)OCCl\n",
      "CN(CCC#N)c1cccc(F)c1Nc1nc(Nc2ccc3c(c2)C(C)(C)CCC(=O)N3)ncc1Cl Cc1cccc(C(=O)NCC#N)c1Nc1nc(Nc2ccc3c(c2)C(C)(C)CCC(=O)N3)ncc1Cl\n",
      "CN(C(=O)N(C)C1CN(C(=O)C2CCC(NC(=O)OC(C)(C)C)CC2)CC1c1ccc(F)cc1)c1cc(C(F)(F)F)cc(C(F)(F)F)c1 CN(C(=O)N(C)C1CN(C(=O)C2CC(F)(F)C2)CC1c1ccc(F)cc1)c1cc(C(F)(F)F)cc(C(F)(F)F)c1\n",
      "COc1nc2cc(Cl)ccc2nc1NC(=O)N1CCN(c2cc(C)cc(C)c2)CC1 COc1nc2cc(Cl)ccc2nc1NC(=O)N1CCN(c2ccc(C(C)=O)cc2)CC1\n"
     ]
    }
   ],
   "source": [
    "print('bad_indices: {:.1f}%'.format(100*np.sum(bad_index_count)/len(bad_index_count)))\n",
    "                                    \n",
    "print('\\nExamples:')\n",
    "for pair in random.sample(bad_indices,100):\n",
    "    i,j = pair\n",
    "    print(df_train['SMILES'][i], df_test['SMILES'][j])"
   ]
  },
  {
   "cell_type": "code",
   "execution_count": null,
   "metadata": {
    "scrolled": false
   },
   "outputs": [],
   "source": [
    "import matplotlib.pyplot as plt\n",
    "\n",
    "plt.figure(figsize=(50,50))\n",
    "plt.matshow(S_matrix, fignum=1)\n",
    "cb = plt.colorbar(fraction=0.046, pad=0.04)"
   ]
  },
  {
   "cell_type": "code",
   "execution_count": 44,
   "metadata": {},
   "outputs": [],
   "source": [
    "df = pd.read_csv('~/ml_physics/MolecularTransformer2/data/data/USPTO_15k/tgt.txt')\n",
    "\n",
    "df['mol'] = df['SMILES'].apply(lambda x: MolFromSmiles(x))\n",
    "\n",
    "fprints = [AllChem.GetMorganFingerprintAsBitVect(mol, radius=3, nBits=1024) for mol in df['mol'].values]"
   ]
  },
  {
   "cell_type": "code",
   "execution_count": 56,
   "metadata": {},
   "outputs": [
    {
     "name": "stderr",
     "output_type": "stream",
     "text": [
      "100%|██████████| 9472/9472 [01:09<00:00, 136.70it/s]\n"
     ]
    }
   ],
   "source": [
    "from sklearn.model_selection import train_test_split\n",
    "\n",
    "df_train, df_test = train_test_split(df, test_size=0.20)\n",
    "\n",
    "fprints_train = [AllChem.GetMorganFingerprintAsBitVect(mol, radius=3, nBits=1024) for mol in df_train['mol'].values]\n",
    "fprints_test = [AllChem.GetMorganFingerprintAsBitVect(mol, radius=3, nBits=1024) for mol in df_test['mol'].values]\n",
    "\n",
    "S_matrix = np.empty((len(fprints_train), len(fprints_test)))\n",
    "for i in tqdm(range(len(fprints_train))):\n",
    "    for j in range(len(fprints_test)):\n",
    "        S_matrix[i][j] = DataStructs.FingerprintSimilarity(fprints_train[i], fprints_test[j])"
   ]
  },
  {
   "cell_type": "code",
   "execution_count": 61,
   "metadata": {
    "scrolled": true
   },
   "outputs": [
    {
     "name": "stdout",
     "output_type": "stream",
     "text": [
      "Percentage of test set with similarity > 0.5: 52.3%\n"
     ]
    }
   ],
   "source": [
    "sim=0.5\n",
    "print('Percentage of test set with similarity > {}: {:.1f}%'.format(sim, 100*np.count_nonzero(np.any(S_matrix>sim, axis=0))/len(S_matrix[0])))"
   ]
  },
  {
   "cell_type": "code",
   "execution_count": 62,
   "metadata": {},
   "outputs": [
    {
     "name": "stdout",
     "output_type": "stream",
     "text": [
      "Original train/test ratio: 80.0%/20.0%\n",
      "Post-split train/test ratio: 90.5%/9.5%\n"
     ]
    }
   ],
   "source": [
    "print('Original train/test ratio: {:.1f}%/{:.1f}%'.format(100*len(df_train)/len(df), 100*len(df_test)/len(df)))\n",
    "\n",
    "df_train_new = df_train.append(df_test.iloc[np.any(S_matrix>sim, axis=0)])\n",
    "\n",
    "df_test_new = df_test[~np.any(S_matrix>sim, axis=0)]\n",
    "\n",
    "print('Post-split train/test ratio: {:.1f}%/{:.1f}%'.format(100*len(df_train_new)/len(df), 100*len(df_test_new)/len(df)))"
   ]
  }
 ],
 "metadata": {
  "kernelspec": {
   "display_name": "Python 3",
   "language": "python",
   "name": "python3"
  },
  "language_info": {
   "codemirror_mode": {
    "name": "ipython",
    "version": 3
   },
   "file_extension": ".py",
   "mimetype": "text/x-python",
   "name": "python",
   "nbconvert_exporter": "python",
   "pygments_lexer": "ipython3",
   "version": "3.7.7"
  }
 },
 "nbformat": 4,
 "nbformat_minor": 4
}
