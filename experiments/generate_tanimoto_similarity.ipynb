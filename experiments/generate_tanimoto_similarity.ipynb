{
 "cells": [
  {
   "cell_type": "code",
   "execution_count": 1,
   "metadata": {},
   "outputs": [],
   "source": [
    "import pandas as pd\n",
    "import numpy as np\n",
    "from rdkit import DataStructs\n",
    "from rdkit.Chem import Draw, MolFromSmiles, AllChem\n",
    "from tqdm import tqdm"
   ]
  },
  {
   "cell_type": "code",
   "execution_count": null,
   "metadata": {},
   "outputs": [],
   "source": [
    "df_train = pd.read_csv('something')\n",
    "df_test = pd.read_csv('somethingelse')\n",
    "\n",
    "df_train['mol'] = df_train['SMILES'].apply(lambda x: MolFromSmiles(x))\n",
    "df_test['mol'] = df_test['SMILES'].apply(lambda x: MolFromSmiles(x))\n",
    "\n",
    "fprints_train = [AllChem.GetMorganFingerprintAsBitVect(mol, radius=3, nBits=1024) for mol in df_train['mol'].values]\n",
    "fprints_test = [AllChem.GetMorganFingerprintAsBitVect(mol, radius=3, nBits=1024) for mol in df_test['mol'].values]\n",
    "\n",
    "D_matrix = np.empty((len(fprints_train), len(fprints_test)))\n",
    "for i in tqdm(range(len(fprints_train))):\n",
    "    for j in range(len(fprints_test)):\n",
    "        # I think we should generate this and have a look by eye what it looks like\n",
    "        D_matrix[i][j] = DataStructs.FingerprintSimilarity(fprints_train[i], fprints_test[j])\n",
    "        \n",
    "        # eventually we should just add a threshold here:\n",
    "        # d = DataStructs.FingerprintSimilarity(fprints_train[i], fprints_test[j])\n",
    "        # if d < 0.4:\n",
    "        #     do something"
   ]
  }
 ],
 "metadata": {
  "kernelspec": {
   "display_name": "Python 3",
   "language": "python",
   "name": "python3"
  },
  "language_info": {
   "codemirror_mode": {
    "name": "ipython",
    "version": 3
   },
   "file_extension": ".py",
   "mimetype": "text/x-python",
   "name": "python",
   "nbconvert_exporter": "python",
   "pygments_lexer": "ipython3",
   "version": "3.7.7"
  }
 },
 "nbformat": 4,
 "nbformat_minor": 4
}
